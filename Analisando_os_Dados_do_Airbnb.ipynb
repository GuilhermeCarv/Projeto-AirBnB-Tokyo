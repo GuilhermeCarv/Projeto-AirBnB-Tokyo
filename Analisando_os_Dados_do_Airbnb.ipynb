{
  "nbformat": 4,
  "nbformat_minor": 0,
  "metadata": {
    "colab": {
      "name": " Analisando os Dados do Airbnb.ipynb",
      "provenance": [],
      "collapsed_sections": [],
      "include_colab_link": true
    },
    "kernelspec": {
      "name": "python3",
      "display_name": "Python 3"
    }
  },
  "cells": [
    {
      "cell_type": "markdown",
      "metadata": {
        "id": "view-in-github",
        "colab_type": "text"
      },
      "source": [
        "<a href=\"https://colab.research.google.com/github/GuilhermeCarv/Projeto-AirBnB-Tokyo/blob/main/Analisando_os_Dados_do_Airbnb.ipynb\" target=\"_parent\"><img src=\"https://colab.research.google.com/assets/colab-badge.svg\" alt=\"Open In Colab\"/></a>"
      ]
    },
    {
      "cell_type": "markdown",
      "metadata": {
        "id": "kLI0gJtzDGuQ"
      },
      "source": [
        "<img alt=\"Colaboratory logo\" width=\"15%\" src=\"https://raw.githubusercontent.com/carlosfab/escola-data-science/master/img/novo_logo_bg_claro.png\">\n",
        "\n",
        "#### **Data Science na Prática 3.0**\n",
        "*by [sigmoidal.ai](https://sigmoidal.ai)*\n",
        "\n",
        "---\n",
        "\n",
        "# Análise dos Dados do Airbnb - *Tokyo*\n",
        "\n",
        "O [Airbnb](https://www.airbnb.com.br/) já é considerado como sendo a **maior empresa hoteleira da atualidade**. Ah, o detalhe é que ele **não possui nenhum hotel**!\n",
        "\n",
        "Conectando pessoas que querem viajar (e se hospedar) com anfitriões que querem alugar seus imóveis de maneira prática, o Airbnb fornece uma plataforma inovadora para tornar essa hospedagem alternativa.\n",
        "\n",
        "No final de 2018, a Startup fundada 12 anos atrás, já havia **hospedado mais de 300 milhões** de pessoas ao redor de todo o mundo, desafiando as redes hoteleiras tradicionais.\n",
        "\n",
        "Uma das iniciativas do Airbnb é disponibilizar dados do site, para algumas das principais cidades do mundo. Por meio do portal [Inside Airbnb](http://insideairbnb.com/get-the-data.html), é possível baixar uma grande quantidade de dados para desenvolver projetos e soluções de *Data Science*.\n",
        "\n",
        "<center><img alt=\"Analisando Airbnb\" width=\"10%\" src=\"https://www.area360.com.au/wp-content/uploads/2017/09/airbnb-logo.jpg\"></center>\n",
        "\n",
        "**Neste *notebook*, iremos analisar os dados referentes à Tokyo, e ver quais insights podem ser extraídos a partir de dados brutos.**"
      ]
    },
    {
      "cell_type": "markdown",
      "metadata": {
        "id": "0zxQHhIUDF_2"
      },
      "source": [
        "## Obtenção dos Dados\n"
      ]
    },
    {
      "cell_type": "code",
      "metadata": {
        "id": "Vhp2wMPgJ6zX"
      },
      "source": [
        "# importar os pacotes necessarios\n",
        "import pandas as pd\n",
        "import matplotlib.pyplot as plt\n",
        "import seaborn as sns\n",
        "from PIL import Image\n",
        "%matplotlib inline "
      ],
      "execution_count": 74,
      "outputs": []
    },
    {
      "cell_type": "code",
      "metadata": {
        "id": "AbWq7AOrviw6"
      },
      "source": [
        ""
      ],
      "execution_count": null,
      "outputs": []
    },
    {
      "cell_type": "code",
      "metadata": {
        "colab": {
          "base_uri": "https://localhost:8080/"
        },
        "id": "cyZ7CAG4vj3k",
        "outputId": "dd303b1d-9a5d-4413-b257-2939afd54b4d"
      },
      "source": [
        "from google.colab import drive\n",
        "drive.mount('/content/drive')"
      ],
      "execution_count": 98,
      "outputs": [
        {
          "output_type": "stream",
          "name": "stdout",
          "text": [
            "Mounted at /content/drive\n"
          ]
        }
      ]
    },
    {
      "cell_type": "code",
      "metadata": {
        "id": "tUmoAT8DLQ5T"
      },
      "source": [
        "# importar o arquivo listings.csv para um DataFrame\n",
        "df = pd.read_csv(\"http://data.insideairbnb.com/japan/kant%C5%8D/tokyo/2021-07-20/visualisations/listings.csv\",sep=',')"
      ],
      "execution_count": 75,
      "outputs": []
    },
    {
      "cell_type": "markdown",
      "metadata": {
        "id": "qb5By2nIMS6m"
      },
      "source": [
        "## Análise dos Dados\n"
      ]
    },
    {
      "cell_type": "markdown",
      "metadata": {
        "id": "RYgvuebKNg8-"
      },
      "source": [
        "**Dicionário das variáveis**\n",
        "\n",
        "* `id` - número de id gerado para identificar o imóvel\n",
        "* `name` - nome da propriedade anunciada\n",
        "* `host_id` - número de id do proprietário (anfitrião) da propriedade\n",
        "* `host_name` - Nome do anfitrião\n",
        "* `neighbourhood_group` - esta coluna não contém nenhum valor válido\n",
        "* `neighbourhood` - nome do bairro\n",
        "* `latitude` - coordenada da latitude da propriedade\n",
        "* `longitude` - coordenada da longitude da propriedade\n",
        "* `room_type` - informa o tipo de quarto que é oferecido\n",
        "* `price` - preço para alugar o imóvel\n",
        "* `minimum_nights` - quantidade mínima de noites para reservar\n",
        "* `number_of_reviews` - número de reviews que a propriedade possui\n",
        "* `last_review` - data do último review\n",
        "* `reviews_per_month` - quantidade de reviews por mês\n",
        "* `calculated_host_listings_count` - quantidade de imóveis do mesmo anfitrião\n",
        "* `availability_365` - número de dias de disponibilidade dentro de 365 dias\n",
        "\n",
        "Antes de iniciar qualquer análise, vamos verificar a cara do nosso *dataset*, analisando as 5 primeiras entradas."
      ]
    },
    {
      "cell_type": "code",
      "metadata": {
        "id": "2iS_dae7YQtO",
        "colab": {
          "base_uri": "https://localhost:8080/",
          "height": 526
        },
        "outputId": "ba9fe809-351b-4d30-ab9d-eadc941fdd06"
      },
      "source": [
        "# mostrar as 5 primeiras entradas\n",
        "df.head()"
      ],
      "execution_count": 76,
      "outputs": [
        {
          "output_type": "execute_result",
          "data": {
            "text/html": [
              "<div>\n",
              "<style scoped>\n",
              "    .dataframe tbody tr th:only-of-type {\n",
              "        vertical-align: middle;\n",
              "    }\n",
              "\n",
              "    .dataframe tbody tr th {\n",
              "        vertical-align: top;\n",
              "    }\n",
              "\n",
              "    .dataframe thead th {\n",
              "        text-align: right;\n",
              "    }\n",
              "</style>\n",
              "<table border=\"1\" class=\"dataframe\">\n",
              "  <thead>\n",
              "    <tr style=\"text-align: right;\">\n",
              "      <th></th>\n",
              "      <th>id</th>\n",
              "      <th>name</th>\n",
              "      <th>host_id</th>\n",
              "      <th>host_name</th>\n",
              "      <th>neighbourhood_group</th>\n",
              "      <th>neighbourhood</th>\n",
              "      <th>latitude</th>\n",
              "      <th>longitude</th>\n",
              "      <th>room_type</th>\n",
              "      <th>price</th>\n",
              "      <th>minimum_nights</th>\n",
              "      <th>number_of_reviews</th>\n",
              "      <th>last_review</th>\n",
              "      <th>reviews_per_month</th>\n",
              "      <th>calculated_host_listings_count</th>\n",
              "      <th>availability_365</th>\n",
              "    </tr>\n",
              "  </thead>\n",
              "  <tbody>\n",
              "    <tr>\n",
              "      <th>0</th>\n",
              "      <td>197677</td>\n",
              "      <td>Oshiage Holiday Apartment</td>\n",
              "      <td>964081</td>\n",
              "      <td>Yoshimi &amp; Marek</td>\n",
              "      <td>NaN</td>\n",
              "      <td>Sumida Ku</td>\n",
              "      <td>35.71707</td>\n",
              "      <td>139.82608</td>\n",
              "      <td>Entire home/apt</td>\n",
              "      <td>16000</td>\n",
              "      <td>3</td>\n",
              "      <td>165</td>\n",
              "      <td>2019-11-14</td>\n",
              "      <td>1.54</td>\n",
              "      <td>1</td>\n",
              "      <td>363</td>\n",
              "    </tr>\n",
              "    <tr>\n",
              "      <th>1</th>\n",
              "      <td>776070</td>\n",
              "      <td>Kero-kero house room 1</td>\n",
              "      <td>801494</td>\n",
              "      <td>Kei</td>\n",
              "      <td>NaN</td>\n",
              "      <td>Kita Ku</td>\n",
              "      <td>35.73844</td>\n",
              "      <td>139.76917</td>\n",
              "      <td>Private room</td>\n",
              "      <td>7676</td>\n",
              "      <td>3</td>\n",
              "      <td>228</td>\n",
              "      <td>2020-01-18</td>\n",
              "      <td>2.39</td>\n",
              "      <td>1</td>\n",
              "      <td>144</td>\n",
              "    </tr>\n",
              "    <tr>\n",
              "      <th>2</th>\n",
              "      <td>1033276</td>\n",
              "      <td>private room @Senju area</td>\n",
              "      <td>5686404</td>\n",
              "      <td>Yukiko</td>\n",
              "      <td>NaN</td>\n",
              "      <td>Adachi Ku</td>\n",
              "      <td>35.74437</td>\n",
              "      <td>139.79739</td>\n",
              "      <td>Private room</td>\n",
              "      <td>30000</td>\n",
              "      <td>1</td>\n",
              "      <td>72</td>\n",
              "      <td>2018-04-15</td>\n",
              "      <td>0.80</td>\n",
              "      <td>2</td>\n",
              "      <td>270</td>\n",
              "    </tr>\n",
              "    <tr>\n",
              "      <th>3</th>\n",
              "      <td>1096292</td>\n",
              "      <td>Home stay with a Japanese language teacher fam...</td>\n",
              "      <td>6018145</td>\n",
              "      <td>Mari</td>\n",
              "      <td>NaN</td>\n",
              "      <td>Shinjuku Ku</td>\n",
              "      <td>35.69233</td>\n",
              "      <td>139.70851</td>\n",
              "      <td>Private room</td>\n",
              "      <td>11312</td>\n",
              "      <td>1</td>\n",
              "      <td>252</td>\n",
              "      <td>2020-02-12</td>\n",
              "      <td>2.80</td>\n",
              "      <td>3</td>\n",
              "      <td>365</td>\n",
              "    </tr>\n",
              "    <tr>\n",
              "      <th>4</th>\n",
              "      <td>1196177</td>\n",
              "      <td>Stay with host Cozy private room Senju area</td>\n",
              "      <td>5686404</td>\n",
              "      <td>Yukiko</td>\n",
              "      <td>NaN</td>\n",
              "      <td>Adachi Ku</td>\n",
              "      <td>35.74475</td>\n",
              "      <td>139.79731</td>\n",
              "      <td>Private room</td>\n",
              "      <td>3000</td>\n",
              "      <td>2</td>\n",
              "      <td>95</td>\n",
              "      <td>2020-03-17</td>\n",
              "      <td>1.01</td>\n",
              "      <td>2</td>\n",
              "      <td>88</td>\n",
              "    </tr>\n",
              "  </tbody>\n",
              "</table>\n",
              "</div>"
            ],
            "text/plain": [
              "        id  ... availability_365\n",
              "0   197677  ...              363\n",
              "1   776070  ...              144\n",
              "2  1033276  ...              270\n",
              "3  1096292  ...              365\n",
              "4  1196177  ...               88\n",
              "\n",
              "[5 rows x 16 columns]"
            ]
          },
          "metadata": {},
          "execution_count": 76
        }
      ]
    },
    {
      "cell_type": "markdown",
      "metadata": {
        "id": "0Jfdu5Tyo-1e"
      },
      "source": [
        "Como a base de dados possui os preços atrelados a moeda local é interessante que se crie uma coluna extra no dataset com o preço em real  "
      ]
    },
    {
      "cell_type": "code",
      "metadata": {
        "id": "Wu1Nj_2Qp1mF"
      },
      "source": [
        "# criando coluna com os valores transportados em real\n",
        "def conversao (preço):\n",
        "  preço['price'] *= 0.048\n",
        "  return float (preço['price'])\n"
      ],
      "execution_count": 77,
      "outputs": []
    },
    {
      "cell_type": "code",
      "metadata": {
        "id": "luxM2es7sO3X"
      },
      "source": [
        "#adicionando os novos valores ao DataFrame\n",
        "df['preço'] = df.apply(conversao, axis=1) "
      ],
      "execution_count": 78,
      "outputs": []
    },
    {
      "cell_type": "markdown",
      "metadata": {
        "id": "6-B_qtEaYEd-"
      },
      "source": [
        "### **Q1. Quantos atributos (variáveis) e quantas entradas o nosso conjunto de dados possui? Quais os tipos das variáveis?**"
      ]
    },
    {
      "cell_type": "code",
      "metadata": {
        "id": "TFRK0tniLV-G",
        "colab": {
          "base_uri": "https://localhost:8080/",
          "height": 353
        },
        "outputId": "0f122993-1991-47fc-da1f-bcfde9a2d227"
      },
      "source": [
        "# identificar o volume de dados do DataFrame\n",
        "print(\"Entradas: \\t {}\".format(df.shape[0]))\n",
        "print(\"Varíaveis: \\t {}\".format(df.shape[1]))\n",
        "\n",
        "# verificar o tipo das variáveis\n",
        "display(df.dtypes)"
      ],
      "execution_count": 79,
      "outputs": [
        {
          "output_type": "stream",
          "name": "stdout",
          "text": [
            "Entradas: \t 10760\n",
            "Varíaveis: \t 17\n"
          ]
        },
        {
          "output_type": "display_data",
          "data": {
            "text/plain": [
              "id                                  int64\n",
              "name                               object\n",
              "host_id                             int64\n",
              "host_name                          object\n",
              "neighbourhood_group               float64\n",
              "neighbourhood                      object\n",
              "latitude                          float64\n",
              "longitude                         float64\n",
              "room_type                          object\n",
              "price                               int64\n",
              "minimum_nights                      int64\n",
              "number_of_reviews                   int64\n",
              "last_review                        object\n",
              "reviews_per_month                 float64\n",
              "calculated_host_listings_count      int64\n",
              "availability_365                    int64\n",
              "preço                             float64\n",
              "dtype: object"
            ]
          },
          "metadata": {}
        }
      ]
    },
    {
      "cell_type": "code",
      "metadata": {
        "id": "zDbqKN_draQD",
        "colab": {
          "base_uri": "https://localhost:8080/",
          "height": 526
        },
        "outputId": "10b313c9-e79f-44cc-ceba-00a977fe4bdd"
      },
      "source": [
        "df.head()"
      ],
      "execution_count": 80,
      "outputs": [
        {
          "output_type": "execute_result",
          "data": {
            "text/html": [
              "<div>\n",
              "<style scoped>\n",
              "    .dataframe tbody tr th:only-of-type {\n",
              "        vertical-align: middle;\n",
              "    }\n",
              "\n",
              "    .dataframe tbody tr th {\n",
              "        vertical-align: top;\n",
              "    }\n",
              "\n",
              "    .dataframe thead th {\n",
              "        text-align: right;\n",
              "    }\n",
              "</style>\n",
              "<table border=\"1\" class=\"dataframe\">\n",
              "  <thead>\n",
              "    <tr style=\"text-align: right;\">\n",
              "      <th></th>\n",
              "      <th>id</th>\n",
              "      <th>name</th>\n",
              "      <th>host_id</th>\n",
              "      <th>host_name</th>\n",
              "      <th>neighbourhood_group</th>\n",
              "      <th>neighbourhood</th>\n",
              "      <th>latitude</th>\n",
              "      <th>longitude</th>\n",
              "      <th>room_type</th>\n",
              "      <th>price</th>\n",
              "      <th>minimum_nights</th>\n",
              "      <th>number_of_reviews</th>\n",
              "      <th>last_review</th>\n",
              "      <th>reviews_per_month</th>\n",
              "      <th>calculated_host_listings_count</th>\n",
              "      <th>availability_365</th>\n",
              "      <th>preço</th>\n",
              "    </tr>\n",
              "  </thead>\n",
              "  <tbody>\n",
              "    <tr>\n",
              "      <th>0</th>\n",
              "      <td>197677</td>\n",
              "      <td>Oshiage Holiday Apartment</td>\n",
              "      <td>964081</td>\n",
              "      <td>Yoshimi &amp; Marek</td>\n",
              "      <td>NaN</td>\n",
              "      <td>Sumida Ku</td>\n",
              "      <td>35.71707</td>\n",
              "      <td>139.82608</td>\n",
              "      <td>Entire home/apt</td>\n",
              "      <td>16000</td>\n",
              "      <td>3</td>\n",
              "      <td>165</td>\n",
              "      <td>2019-11-14</td>\n",
              "      <td>1.54</td>\n",
              "      <td>1</td>\n",
              "      <td>363</td>\n",
              "      <td>768.000</td>\n",
              "    </tr>\n",
              "    <tr>\n",
              "      <th>1</th>\n",
              "      <td>776070</td>\n",
              "      <td>Kero-kero house room 1</td>\n",
              "      <td>801494</td>\n",
              "      <td>Kei</td>\n",
              "      <td>NaN</td>\n",
              "      <td>Kita Ku</td>\n",
              "      <td>35.73844</td>\n",
              "      <td>139.76917</td>\n",
              "      <td>Private room</td>\n",
              "      <td>7676</td>\n",
              "      <td>3</td>\n",
              "      <td>228</td>\n",
              "      <td>2020-01-18</td>\n",
              "      <td>2.39</td>\n",
              "      <td>1</td>\n",
              "      <td>144</td>\n",
              "      <td>368.448</td>\n",
              "    </tr>\n",
              "    <tr>\n",
              "      <th>2</th>\n",
              "      <td>1033276</td>\n",
              "      <td>private room @Senju area</td>\n",
              "      <td>5686404</td>\n",
              "      <td>Yukiko</td>\n",
              "      <td>NaN</td>\n",
              "      <td>Adachi Ku</td>\n",
              "      <td>35.74437</td>\n",
              "      <td>139.79739</td>\n",
              "      <td>Private room</td>\n",
              "      <td>30000</td>\n",
              "      <td>1</td>\n",
              "      <td>72</td>\n",
              "      <td>2018-04-15</td>\n",
              "      <td>0.80</td>\n",
              "      <td>2</td>\n",
              "      <td>270</td>\n",
              "      <td>1440.000</td>\n",
              "    </tr>\n",
              "    <tr>\n",
              "      <th>3</th>\n",
              "      <td>1096292</td>\n",
              "      <td>Home stay with a Japanese language teacher fam...</td>\n",
              "      <td>6018145</td>\n",
              "      <td>Mari</td>\n",
              "      <td>NaN</td>\n",
              "      <td>Shinjuku Ku</td>\n",
              "      <td>35.69233</td>\n",
              "      <td>139.70851</td>\n",
              "      <td>Private room</td>\n",
              "      <td>11312</td>\n",
              "      <td>1</td>\n",
              "      <td>252</td>\n",
              "      <td>2020-02-12</td>\n",
              "      <td>2.80</td>\n",
              "      <td>3</td>\n",
              "      <td>365</td>\n",
              "      <td>542.976</td>\n",
              "    </tr>\n",
              "    <tr>\n",
              "      <th>4</th>\n",
              "      <td>1196177</td>\n",
              "      <td>Stay with host Cozy private room Senju area</td>\n",
              "      <td>5686404</td>\n",
              "      <td>Yukiko</td>\n",
              "      <td>NaN</td>\n",
              "      <td>Adachi Ku</td>\n",
              "      <td>35.74475</td>\n",
              "      <td>139.79731</td>\n",
              "      <td>Private room</td>\n",
              "      <td>3000</td>\n",
              "      <td>2</td>\n",
              "      <td>95</td>\n",
              "      <td>2020-03-17</td>\n",
              "      <td>1.01</td>\n",
              "      <td>2</td>\n",
              "      <td>88</td>\n",
              "      <td>144.000</td>\n",
              "    </tr>\n",
              "  </tbody>\n",
              "</table>\n",
              "</div>"
            ],
            "text/plain": [
              "        id  ...     preço\n",
              "0   197677  ...   768.000\n",
              "1   776070  ...   368.448\n",
              "2  1033276  ...  1440.000\n",
              "3  1096292  ...   542.976\n",
              "4  1196177  ...   144.000\n",
              "\n",
              "[5 rows x 17 columns]"
            ]
          },
          "metadata": {},
          "execution_count": 80
        }
      ]
    },
    {
      "cell_type": "markdown",
      "metadata": {
        "id": "yz1urSUGW9iE"
      },
      "source": [
        "### **Q2. Qual a porcentagem de valores ausentes no *dataset*?**"
      ]
    },
    {
      "cell_type": "code",
      "metadata": {
        "id": "plk2FjbCXOqP",
        "colab": {
          "base_uri": "https://localhost:8080/"
        },
        "outputId": "76762a61-74eb-4d37-b013-c421a1cfbd06"
      },
      "source": [
        "# ordenar em ordem decrescente as variáveis por seus valores ausentes\n",
        "(df.isnull().sum() / df.shape[0]).sort_values(ascending=False)"
      ],
      "execution_count": 81,
      "outputs": [
        {
          "output_type": "execute_result",
          "data": {
            "text/plain": [
              "neighbourhood_group               1.000000\n",
              "reviews_per_month                 0.187918\n",
              "last_review                       0.187918\n",
              "host_name                         0.001487\n",
              "preço                             0.000000\n",
              "latitude                          0.000000\n",
              "name                              0.000000\n",
              "host_id                           0.000000\n",
              "neighbourhood                     0.000000\n",
              "room_type                         0.000000\n",
              "longitude                         0.000000\n",
              "availability_365                  0.000000\n",
              "price                             0.000000\n",
              "minimum_nights                    0.000000\n",
              "number_of_reviews                 0.000000\n",
              "calculated_host_listings_count    0.000000\n",
              "id                                0.000000\n",
              "dtype: float64"
            ]
          },
          "metadata": {},
          "execution_count": 81
        }
      ]
    },
    {
      "cell_type": "markdown",
      "metadata": {
        "id": "iHXvvHIxaoNc"
      },
      "source": [
        "### **Q3. Qual o tipo de distribuição das variáveis?** "
      ]
    },
    {
      "cell_type": "code",
      "metadata": {
        "id": "q2wWSfeRbmBo",
        "colab": {
          "base_uri": "https://localhost:8080/",
          "height": 607
        },
        "outputId": "bec93143-f78d-4b68-8395-86841e4b0c0f"
      },
      "source": [
        "# plotar o histograma das variáveis numéricas\n",
        "df.hist(bins=15, figsize=(15,10));"
      ],
      "execution_count": 82,
      "outputs": [
        {
          "output_type": "display_data",
          "data": {
            "image/png": "[encoded data removed]",
            "text/plain": [
              "<Figure size 1080x720 with 12 Axes>"
            ]
          },
          "metadata": {
            "needs_background": "light"
          }
        }
      ]
    },
    {
      "cell_type": "markdown",
      "metadata": {
        "id": "7x4aw1j5wNmn"
      },
      "source": [
        "### **Q4. Análise de *Outliers*** ###\n",
        "\n",
        "*Outliers* podem ser traduzidos como \"pontos fora da curva\", ou seja, valores discrepantes dentro do conjunto de dados.\n",
        "\n",
        "A análise visual dos histogramas plotados levanta suspeitas de que existem *outliers* nas variavéis `price` e `calculated_host_listings_count`\n",
        "\n",
        "Para verificar essa análise inicial duas ferramentas serão utilizadas:\n",
        "\n",
        "* Utilizar o método `describe()` para fornecer um resumo estatístico\n",
        "* Plotar *boxplots* para as variavéis\n",
        "\n",
        "Ressalta-se que um *outlier* não necessariamente é um erro, podendo ser apenas um comportamento atípico real."
      ]
    },
    {
      "cell_type": "code",
      "metadata": {
        "id": "ff-8gUahLk-C",
        "colab": {
          "base_uri": "https://localhost:8080/",
          "height": 295
        },
        "outputId": "e345a78e-9841-4055-9c2b-13b1fcc3ed58"
      },
      "source": [
        "# ver resumo estatístico das variáveis numéricas\n",
        "df[['preço', 'minimum_nights','number_of_reviews','reviews_per_month','calculated_host_listings_count','availability_365']].describe()\n"
      ],
      "execution_count": 83,
      "outputs": [
        {
          "output_type": "execute_result",
          "data": {
            "text/html": [
              "<div>\n",
              "<style scoped>\n",
              "    .dataframe tbody tr th:only-of-type {\n",
              "        vertical-align: middle;\n",
              "    }\n",
              "\n",
              "    .dataframe tbody tr th {\n",
              "        vertical-align: top;\n",
              "    }\n",
              "\n",
              "    .dataframe thead th {\n",
              "        text-align: right;\n",
              "    }\n",
              "</style>\n",
              "<table border=\"1\" class=\"dataframe\">\n",
              "  <thead>\n",
              "    <tr style=\"text-align: right;\">\n",
              "      <th></th>\n",
              "      <th>preço</th>\n",
              "      <th>minimum_nights</th>\n",
              "      <th>number_of_reviews</th>\n",
              "      <th>reviews_per_month</th>\n",
              "      <th>calculated_host_listings_count</th>\n",
              "      <th>availability_365</th>\n",
              "    </tr>\n",
              "  </thead>\n",
              "  <tbody>\n",
              "    <tr>\n",
              "      <th>count</th>\n",
              "      <td>10760.000000</td>\n",
              "      <td>10760.000000</td>\n",
              "      <td>10760.000000</td>\n",
              "      <td>8738.000000</td>\n",
              "      <td>10760.000000</td>\n",
              "      <td>10760.000000</td>\n",
              "    </tr>\n",
              "    <tr>\n",
              "      <th>mean</th>\n",
              "      <td>1032.645578</td>\n",
              "      <td>3.531041</td>\n",
              "      <td>27.081877</td>\n",
              "      <td>1.162398</td>\n",
              "      <td>12.584758</td>\n",
              "      <td>153.398699</td>\n",
              "    </tr>\n",
              "    <tr>\n",
              "      <th>std</th>\n",
              "      <td>2901.579621</td>\n",
              "      <td>20.578030</td>\n",
              "      <td>43.501770</td>\n",
              "      <td>1.243153</td>\n",
              "      <td>14.443079</td>\n",
              "      <td>118.661460</td>\n",
              "    </tr>\n",
              "    <tr>\n",
              "      <th>min</th>\n",
              "      <td>0.000000</td>\n",
              "      <td>1.000000</td>\n",
              "      <td>0.000000</td>\n",
              "      <td>0.020000</td>\n",
              "      <td>1.000000</td>\n",
              "      <td>0.000000</td>\n",
              "    </tr>\n",
              "    <tr>\n",
              "      <th>25%</th>\n",
              "      <td>252.336000</td>\n",
              "      <td>1.000000</td>\n",
              "      <td>1.000000</td>\n",
              "      <td>0.380000</td>\n",
              "      <td>3.000000</td>\n",
              "      <td>61.000000</td>\n",
              "    </tr>\n",
              "    <tr>\n",
              "      <th>50%</th>\n",
              "      <td>442.992000</td>\n",
              "      <td>1.000000</td>\n",
              "      <td>9.000000</td>\n",
              "      <td>0.880000</td>\n",
              "      <td>8.000000</td>\n",
              "      <td>134.000000</td>\n",
              "    </tr>\n",
              "    <tr>\n",
              "      <th>75%</th>\n",
              "      <td>864.000000</td>\n",
              "      <td>2.000000</td>\n",
              "      <td>34.000000</td>\n",
              "      <td>1.560000</td>\n",
              "      <td>16.000000</td>\n",
              "      <td>245.250000</td>\n",
              "    </tr>\n",
              "    <tr>\n",
              "      <th>max</th>\n",
              "      <td>66240.000000</td>\n",
              "      <td>999.000000</td>\n",
              "      <td>489.000000</td>\n",
              "      <td>27.740000</td>\n",
              "      <td>98.000000</td>\n",
              "      <td>365.000000</td>\n",
              "    </tr>\n",
              "  </tbody>\n",
              "</table>\n",
              "</div>"
            ],
            "text/plain": [
              "              preço  ...  availability_365\n",
              "count  10760.000000  ...      10760.000000\n",
              "mean    1032.645578  ...        153.398699\n",
              "std     2901.579621  ...        118.661460\n",
              "min        0.000000  ...          0.000000\n",
              "25%      252.336000  ...         61.000000\n",
              "50%      442.992000  ...        134.000000\n",
              "75%      864.000000  ...        245.250000\n",
              "max    66240.000000  ...        365.000000\n",
              "\n",
              "[8 rows x 6 columns]"
            ]
          },
          "metadata": {},
          "execution_count": 83
        }
      ]
    },
    {
      "cell_type": "markdown",
      "metadata": {
        "id": "dpmpd9ty7Cax"
      },
      "source": [
        "O resumo estatístico acima traz algumas informações interessantes:\n",
        "\n",
        "* Apesar de 75% dos valores de `price`serem de até R$ 918,00, o valor máximo é quase 77x maior (51000,00 reais)\n",
        "*\tO `calculated_host_listings_count`máximo é de 98, indicando que talvez esse anfitrião seja na verdade uma rede hoteleira disponibilizando quartos\n",
        "* Existem imóveis que não estão disponíveis em nenhum dia do ano, uma vez que o valor de sua `availability_365` é 0\n",
        "\n",
        "#### Boxplot para calculated_host_listings_count"
      ]
    },
    {
      "cell_type": "code",
      "metadata": {
        "id": "uzZc9h4Y9dN3",
        "colab": {
          "base_uri": "https://localhost:8080/",
          "height": 211
        },
        "outputId": "0024e855-7e57-4fce-e189-d5fb2f55c093"
      },
      "source": [
        "df.calculated_host_listings_count.plot(kind = 'box', vert=False, figsize=(15,3))\n",
        "plt.show()"
      ],
      "execution_count": 84,
      "outputs": [
        {
          "output_type": "display_data",
          "data": {
            "image/png": "[encoded data removed]",
            "text/plain": [
              "<Figure size 1080x216 with 1 Axes>"
            ]
          },
          "metadata": {
            "needs_background": "light"
          }
        }
      ]
    },
    {
      "cell_type": "code",
      "metadata": {
        "id": "AkNaatUFH-5V",
        "colab": {
          "base_uri": "https://localhost:8080/",
          "height": 211
        },
        "outputId": "d2bac94a-deb6-4381-d584-f1e53003c6fc"
      },
      "source": [
        "df.preço.plot(kind = 'box', vert=False, figsize=(15,3))\n",
        "plt.show()"
      ],
      "execution_count": 85,
      "outputs": [
        {
          "output_type": "display_data",
          "data": {
            "image/png": "[encoded data removed]",
            "text/plain": [
              "<Figure size 1080x216 with 1 Axes>"
            ]
          },
          "metadata": {
            "needs_background": "light"
          }
        }
      ]
    },
    {
      "cell_type": "markdown",
      "metadata": {
        "id": "JcprT1vQ6WWx"
      },
      "source": [
        "Para definir um ponto de corte de *outliers* o Intervalo Interquartil (IIQ) pode ser utilizado. A seguir é calculado o IIQ e quais valores seriam *outliers* baixos e altos dentro da variável `preço`"
      ]
    },
    {
      "cell_type": "code",
      "metadata": {
        "id": "pp1p88YuM2lc",
        "colab": {
          "base_uri": "https://localhost:8080/"
        },
        "outputId": "2fabc5f6-cbc4-4c2d-f11d-d6bc4515b1ea"
      },
      "source": [
        "#cálculo de quartis e do IIQ para preço\n",
        "\n",
        "Q1_preço= df['preço'].quantile(0.25)\n",
        "Q3_preço =  df['preço'].quantile(0.75)\n",
        "IIQ_preço = Q3_preço - Q1_preço\n",
        "Outlier_baixo = Q1_preço - (1.5*IIQ_preço)\n",
        "Outlier_alto = Q3_preço + (1.5*IIQ_preço)\n",
        "print(\"Tudo abaixo de: \" + str(Outlier_baixo) + \" é um Outlier baixo\")\n",
        "print(\"Tudo acima de: \" + str(Outlier_alto) + \" é um Outlier alto\")\n",
        "print(\"Valores acima de 1892: {}\".format((len(df[df.preço > 1892]))))\n",
        "print(\"Porcentual de valores acima do Outlier alto: {:.4f}%\".format((len(df[df.preço > 1892]) / df.shape[0])*100))"
      ],
      "execution_count": 86,
      "outputs": [
        {
          "output_type": "stream",
          "name": "stdout",
          "text": [
            "Tudo abaixo de: -665.16 é um Outlier baixo\n",
            "Tudo acima de: 1781.496 é um Outlier alto\n",
            "Valores acima de 1892: 951\n",
            "Porcentual de valores acima do Outlier alto: 8.8383%\n"
          ]
        }
      ]
    },
    {
      "cell_type": "markdown",
      "metadata": {
        "id": "ayqbhu4qG2qV"
      },
      "source": [
        "A quantidade de imóveis que não possuem disponibilidade ao longo do ano é dada a seguir."
      ]
    },
    {
      "cell_type": "code",
      "metadata": {
        "id": "GhS4Sb7yC5mr",
        "colab": {
          "base_uri": "https://localhost:8080/"
        },
        "outputId": "213c1579-35e5-46d2-f89b-9991de43407b"
      },
      "source": [
        "#imóveis com availability_365 igual a 0\n",
        "print(\"Número de imóveis que não possuem disponibilidade ao longo do ano: {}\".format(len(df[df.availability_365 == 0])))\n",
        "print(\"Porcentual de imóveis que não possuem disponibilidade ao longo do ano {:.4f}%\".format((len(df[df.availability_365 == 0]) / df.shape[0])*100))"
      ],
      "execution_count": 87,
      "outputs": [
        {
          "output_type": "stream",
          "name": "stdout",
          "text": [
            "Número de imóveis que não possuem disponibilidade ao longo do ano: 1087\n",
            "Porcentual de imóveis que não possuem disponibilidade ao longo do ano 10.1022%\n"
          ]
        }
      ]
    },
    {
      "cell_type": "markdown",
      "metadata": {
        "id": "Rz-TDvfQHSFb"
      },
      "source": [
        "#### Histogramas sem *outliers*\n",
        "\n",
        "As váriaveis `price`e `availability_365` possuem *outliers*, logo é necessário limpar o *DataFrame* para uma análise mais realista"
      ]
    },
    {
      "cell_type": "code",
      "metadata": {
        "id": "q47mk9D1H5em",
        "colab": {
          "base_uri": "https://localhost:8080/"
        },
        "outputId": "d19a92eb-b59e-45ef-fe28-5e75ff396faa"
      },
      "source": [
        "# remover outliers em um novo df\n",
        "df_clean = df.copy()\n",
        "df_clean.drop(df_clean[df_clean.preço > 1892].index, axis=0, inplace = True)\n",
        "df_clean.drop(df_clean[df_clean.availability_365 == 0].index, axis=0, inplace= True)\n",
        "\n",
        "#remover neighbourhood_group, pois está vazio\n",
        "df_clean.drop('neighbourhood_group',axis=1,inplace=True)\n",
        "\n",
        "print(\"Entradas do DataFrame limpo: {}\".format(df_clean.shape[0]))\n"
      ],
      "execution_count": 88,
      "outputs": [
        {
          "output_type": "stream",
          "name": "stdout",
          "text": [
            "Entradas do DataFrame limpo: 8910\n"
          ]
        }
      ]
    },
    {
      "cell_type": "code",
      "metadata": {
        "id": "2pHH1cckY0nM",
        "colab": {
          "base_uri": "https://localhost:8080/",
          "height": 607
        },
        "outputId": "5642d1c8-a808-438e-c675-9f8913a1fee8"
      },
      "source": [
        "#plotar novo histograma\n",
        "df_clean.hist(bins=15, figsize = (15,10));"
      ],
      "execution_count": 89,
      "outputs": [
        {
          "output_type": "display_data",
          "data": {
            "image/png": "[encoded data removed]",
            "text/plain": [
              "<Figure size 1080x720 with 12 Axes>"
            ]
          },
          "metadata": {
            "needs_background": "light"
          }
        }
      ]
    },
    {
      "cell_type": "markdown",
      "metadata": {
        "id": "IXn2oIo5qx-w"
      },
      "source": [
        "### **Q4. Qual a correlação existente entre as variáveis**\n",
        "\n",
        "A correlação indica se há relação, e seu tipo, entre duas variáveis.\n",
        "\n",
        "Essa relação pode ser medida e a intensidade entre e, por meio do coeficiente de correlação, sua intensidade pode ser estabelecida. Para identificar as correlações existentes entre as variavéis numéricas, vou:\n",
        "\n",
        "* Criar uma matriz de correlação\n",
        "* Gerar um *heatmap* a partir dessa matriz, de forma a tornar a visualização mais amigável"
      ]
    },
    {
      "cell_type": "code",
      "metadata": {
        "id": "x2ayzBajqxyd",
        "colab": {
          "base_uri": "https://localhost:8080/",
          "height": 265
        },
        "outputId": "15ca8919-a86a-485b-f389-c2d013c5bffc"
      },
      "source": [
        "# criar uma matriz de correlação\n",
        "corr = df_clean[['price','preço','minimum_nights','number_of_reviews','reviews_per_month','calculated_host_listings_count','availability_365']].corr()\n",
        "\n",
        "# mostrar a matriz de correlação\n",
        "display(corr)"
      ],
      "execution_count": 90,
      "outputs": [
        {
          "output_type": "display_data",
          "data": {
            "text/html": [
              "<div>\n",
              "<style scoped>\n",
              "    .dataframe tbody tr th:only-of-type {\n",
              "        vertical-align: middle;\n",
              "    }\n",
              "\n",
              "    .dataframe tbody tr th {\n",
              "        vertical-align: top;\n",
              "    }\n",
              "\n",
              "    .dataframe thead th {\n",
              "        text-align: right;\n",
              "    }\n",
              "</style>\n",
              "<table border=\"1\" class=\"dataframe\">\n",
              "  <thead>\n",
              "    <tr style=\"text-align: right;\">\n",
              "      <th></th>\n",
              "      <th>price</th>\n",
              "      <th>preço</th>\n",
              "      <th>minimum_nights</th>\n",
              "      <th>number_of_reviews</th>\n",
              "      <th>reviews_per_month</th>\n",
              "      <th>calculated_host_listings_count</th>\n",
              "      <th>availability_365</th>\n",
              "    </tr>\n",
              "  </thead>\n",
              "  <tbody>\n",
              "    <tr>\n",
              "      <th>price</th>\n",
              "      <td>1.000000</td>\n",
              "      <td>1.000000</td>\n",
              "      <td>-0.055078</td>\n",
              "      <td>0.057173</td>\n",
              "      <td>0.081570</td>\n",
              "      <td>-0.053597</td>\n",
              "      <td>0.015572</td>\n",
              "    </tr>\n",
              "    <tr>\n",
              "      <th>preço</th>\n",
              "      <td>1.000000</td>\n",
              "      <td>1.000000</td>\n",
              "      <td>-0.055078</td>\n",
              "      <td>0.057173</td>\n",
              "      <td>0.081570</td>\n",
              "      <td>-0.053597</td>\n",
              "      <td>0.015572</td>\n",
              "    </tr>\n",
              "    <tr>\n",
              "      <th>minimum_nights</th>\n",
              "      <td>-0.055078</td>\n",
              "      <td>-0.055078</td>\n",
              "      <td>1.000000</td>\n",
              "      <td>-0.039800</td>\n",
              "      <td>-0.042841</td>\n",
              "      <td>0.063181</td>\n",
              "      <td>0.083035</td>\n",
              "    </tr>\n",
              "    <tr>\n",
              "      <th>number_of_reviews</th>\n",
              "      <td>0.057173</td>\n",
              "      <td>0.057173</td>\n",
              "      <td>-0.039800</td>\n",
              "      <td>1.000000</td>\n",
              "      <td>0.637268</td>\n",
              "      <td>-0.150472</td>\n",
              "      <td>0.005950</td>\n",
              "    </tr>\n",
              "    <tr>\n",
              "      <th>reviews_per_month</th>\n",
              "      <td>0.081570</td>\n",
              "      <td>0.081570</td>\n",
              "      <td>-0.042841</td>\n",
              "      <td>0.637268</td>\n",
              "      <td>1.000000</td>\n",
              "      <td>-0.126140</td>\n",
              "      <td>-0.023727</td>\n",
              "    </tr>\n",
              "    <tr>\n",
              "      <th>calculated_host_listings_count</th>\n",
              "      <td>-0.053597</td>\n",
              "      <td>-0.053597</td>\n",
              "      <td>0.063181</td>\n",
              "      <td>-0.150472</td>\n",
              "      <td>-0.126140</td>\n",
              "      <td>1.000000</td>\n",
              "      <td>0.180189</td>\n",
              "    </tr>\n",
              "    <tr>\n",
              "      <th>availability_365</th>\n",
              "      <td>0.015572</td>\n",
              "      <td>0.015572</td>\n",
              "      <td>0.083035</td>\n",
              "      <td>0.005950</td>\n",
              "      <td>-0.023727</td>\n",
              "      <td>0.180189</td>\n",
              "      <td>1.000000</td>\n",
              "    </tr>\n",
              "  </tbody>\n",
              "</table>\n",
              "</div>"
            ],
            "text/plain": [
              "                                   price  ...  availability_365\n",
              "price                           1.000000  ...          0.015572\n",
              "preço                           1.000000  ...          0.015572\n",
              "minimum_nights                 -0.055078  ...          0.083035\n",
              "number_of_reviews               0.057173  ...          0.005950\n",
              "reviews_per_month               0.081570  ...         -0.023727\n",
              "calculated_host_listings_count -0.053597  ...          0.180189\n",
              "availability_365                0.015572  ...          1.000000\n",
              "\n",
              "[7 rows x 7 columns]"
            ]
          },
          "metadata": {}
        }
      ]
    },
    {
      "cell_type": "code",
      "metadata": {
        "id": "91UujDr6ueqE",
        "colab": {
          "base_uri": "https://localhost:8080/",
          "height": 411
        },
        "outputId": "d6f4b054-2365-4033-9ebd-b8895fde7fd1"
      },
      "source": [
        "# plotar um heatmap a partir das correlações\n",
        "sns.heatmap(corr, cmap='RdBu', fmt='.2f', square=True, linecolor= 'white', annot=True);"
      ],
      "execution_count": 91,
      "outputs": [
        {
          "output_type": "display_data",
          "data": {
            "image/png": "[encoded data removed]",
            "text/plain": [
              "<Figure size 432x288 with 2 Axes>"
            ]
          },
          "metadata": {
            "needs_background": "light"
          }
        }
      ]
    },
    {
      "cell_type": "markdown",
      "metadata": {
        "id": "7b6RMWpuHKN-"
      },
      "source": [
        "### **Q5. Qual o tipo de imóvel mais alugado no Airbnb?**\n",
        "\n",
        "Um dos diferenciais da plataforma é oferecer diversos tipos de modalidade de locação, facilitando tanto para o anfitrião que não necessariamente precisa sair de seu imóvel durante a locação, quanto para o hóspede, que pode procurar hospedagem que se adeque mais ao seu estilo. \n",
        "\n",
        "A variável `room_type` indica o tipo de locação disponível no AirBnB e sua ocorrência pode ser contada utilizando-se o método `value_counts` "
      ]
    },
    {
      "cell_type": "code",
      "metadata": {
        "id": "ueLPNWvPHgfB",
        "colab": {
          "base_uri": "https://localhost:8080/"
        },
        "outputId": "43895381-9aa7-4ee2-f77b-a73d1427bd24"
      },
      "source": [
        "# mostrar a quantidade de cada tipo de imóvel disponível\n",
        "df_clean.room_type.value_counts()"
      ],
      "execution_count": 92,
      "outputs": [
        {
          "output_type": "execute_result",
          "data": {
            "text/plain": [
              "Entire home/apt    6122\n",
              "Private room       2144\n",
              "Hotel room          343\n",
              "Shared room         301\n",
              "Name: room_type, dtype: int64"
            ]
          },
          "metadata": {},
          "execution_count": 92
        }
      ]
    },
    {
      "cell_type": "code",
      "metadata": {
        "id": "EvwoO-XAHhIm",
        "colab": {
          "base_uri": "https://localhost:8080/"
        },
        "outputId": "a93acf7c-eb97-4c68-f9ee-755be91721de"
      },
      "source": [
        "# mostrar a porcentagem de cada tipo de imóvel disponível\n",
        "df_clean.room_type.value_counts() / df_clean.shape[0] *100"
      ],
      "execution_count": 93,
      "outputs": [
        {
          "output_type": "execute_result",
          "data": {
            "text/plain": [
              "Entire home/apt    68.709315\n",
              "Private room       24.062851\n",
              "Hotel room          3.849607\n",
              "Shared room         3.378227\n",
              "Name: room_type, dtype: float64"
            ]
          },
          "metadata": {},
          "execution_count": 93
        }
      ]
    },
    {
      "cell_type": "markdown",
      "metadata": {
        "id": "MFa5NbnLJMcd"
      },
      "source": [
        "### **Q6. Qual a localidade mais cara de Tokyo?**\n",
        "A função `group_by()` verifica uma variável em função de outra . No caso queremos comparar os bairros (*neighbourhoods*) e seu preço de locação (`preço`)\n"
      ]
    },
    {
      "cell_type": "code",
      "metadata": {
        "id": "MD_xa143JZpi",
        "colab": {
          "base_uri": "https://localhost:8080/"
        },
        "outputId": "ea06d7a2-8511-4eea-c6c8-a7d1ee49d09b"
      },
      "source": [
        "# ver preços por bairros, na média\n",
        "df_clean.groupby(['neighbourhood']).preço.mean().sort_values(ascending=False)[:10]"
      ],
      "execution_count": 94,
      "outputs": [
        {
          "output_type": "execute_result",
          "data": {
            "text/plain": [
              "neighbourhood\n",
              "Hamura Shi        1060.176000\n",
              "Nishitokyo Shi     874.873600\n",
              "Chofu Shi          836.928000\n",
              "Musashino Shi      696.836571\n",
              "Minato Ku          650.357303\n",
              "Shibuya Ku         598.174455\n",
              "Chiyoda Ku         594.332773\n",
              "Mitaka Shi         586.961455\n",
              "Fuchu Shi          579.104000\n",
              "Taito Ku           577.971193\n",
              "Name: preço, dtype: float64"
            ]
          },
          "metadata": {},
          "execution_count": 94
        }
      ]
    },
    {
      "cell_type": "markdown",
      "metadata": {
        "id": "e07bMyk1h4Dg"
      },
      "source": [
        "Uma rápida pesquisa no Google Maps mostra que a localidade de Hamura Shi é afastada do centro do Tokyo, cerca de 1h de carro e perto de 2h utilizando transporte público. \n",
        "\n",
        "Uma investigação mais aprofundada mostra que na realidade Hamura Shi possui apenas quatro imóveis listados com uma discrepância grande entre o menor e o maior preço"
      ]
    },
    {
      "cell_type": "code",
      "metadata": {
        "id": "DYTJOixSE1NW",
        "colab": {
          "base_uri": "https://localhost:8080/",
          "height": 343
        },
        "outputId": "c43b75fa-b8ae-4cbf-9d71-f956c93f7330"
      },
      "source": [
        "print(df_clean[df_clean['neighbourhood'] == 'Hamura Shi'].shape[0])\n",
        "df_clean[df_clean['neighbourhood']== 'Hamura Shi']"
      ],
      "execution_count": 95,
      "outputs": [
        {
          "output_type": "stream",
          "name": "stdout",
          "text": [
            "4\n"
          ]
        },
        {
          "output_type": "execute_result",
          "data": {
            "text/html": [
              "<div>\n",
              "<style scoped>\n",
              "    .dataframe tbody tr th:only-of-type {\n",
              "        vertical-align: middle;\n",
              "    }\n",
              "\n",
              "    .dataframe tbody tr th {\n",
              "        vertical-align: top;\n",
              "    }\n",
              "\n",
              "    .dataframe thead th {\n",
              "        text-align: right;\n",
              "    }\n",
              "</style>\n",
              "<table border=\"1\" class=\"dataframe\">\n",
              "  <thead>\n",
              "    <tr style=\"text-align: right;\">\n",
              "      <th></th>\n",
              "      <th>id</th>\n",
              "      <th>name</th>\n",
              "      <th>host_id</th>\n",
              "      <th>host_name</th>\n",
              "      <th>neighbourhood</th>\n",
              "      <th>latitude</th>\n",
              "      <th>longitude</th>\n",
              "      <th>room_type</th>\n",
              "      <th>price</th>\n",
              "      <th>minimum_nights</th>\n",
              "      <th>number_of_reviews</th>\n",
              "      <th>last_review</th>\n",
              "      <th>reviews_per_month</th>\n",
              "      <th>calculated_host_listings_count</th>\n",
              "      <th>availability_365</th>\n",
              "      <th>preço</th>\n",
              "    </tr>\n",
              "  </thead>\n",
              "  <tbody>\n",
              "    <tr>\n",
              "      <th>1544</th>\n",
              "      <td>22947785</td>\n",
              "      <td>羽村駅徒歩14分テラス付き素敵なメゾネット！A1</td>\n",
              "      <td>169807146</td>\n",
              "      <td>陽子</td>\n",
              "      <td>Hamura Shi</td>\n",
              "      <td>35.76276</td>\n",
              "      <td>139.32190</td>\n",
              "      <td>Entire home/apt</td>\n",
              "      <td>28120</td>\n",
              "      <td>4</td>\n",
              "      <td>4</td>\n",
              "      <td>2019-05-04</td>\n",
              "      <td>0.21</td>\n",
              "      <td>8</td>\n",
              "      <td>263</td>\n",
              "      <td>1349.760</td>\n",
              "    </tr>\n",
              "    <tr>\n",
              "      <th>1562</th>\n",
              "      <td>22987845</td>\n",
              "      <td>JR羽村駅徒歩14分　凝った内装でゆったり2DK/B3</td>\n",
              "      <td>169807146</td>\n",
              "      <td>陽子</td>\n",
              "      <td>Hamura Shi</td>\n",
              "      <td>35.76472</td>\n",
              "      <td>139.32737</td>\n",
              "      <td>Entire home/apt</td>\n",
              "      <td>28571</td>\n",
              "      <td>5</td>\n",
              "      <td>1</td>\n",
              "      <td>2018-04-10</td>\n",
              "      <td>0.03</td>\n",
              "      <td>8</td>\n",
              "      <td>263</td>\n",
              "      <td>1371.408</td>\n",
              "    </tr>\n",
              "    <tr>\n",
              "      <th>1565</th>\n",
              "      <td>22988271</td>\n",
              "      <td>羽村駅徒歩14分の2DK！自然派にもオススメB5</td>\n",
              "      <td>169807146</td>\n",
              "      <td>陽子</td>\n",
              "      <td>Hamura Shi</td>\n",
              "      <td>35.76268</td>\n",
              "      <td>139.32683</td>\n",
              "      <td>Entire home/apt</td>\n",
              "      <td>28571</td>\n",
              "      <td>4</td>\n",
              "      <td>6</td>\n",
              "      <td>2020-02-19</td>\n",
              "      <td>0.26</td>\n",
              "      <td>8</td>\n",
              "      <td>353</td>\n",
              "      <td>1371.408</td>\n",
              "    </tr>\n",
              "    <tr>\n",
              "      <th>5326</th>\n",
              "      <td>37401769</td>\n",
              "      <td>Nprkg #201 Hamura0.6/Yokota1.5mi 2ppl Tokyo su...</td>\n",
              "      <td>38919757</td>\n",
              "      <td>Max Masaking</td>\n",
              "      <td>Hamura Shi</td>\n",
              "      <td>35.75033</td>\n",
              "      <td>139.31400</td>\n",
              "      <td>Entire home/apt</td>\n",
              "      <td>3086</td>\n",
              "      <td>1</td>\n",
              "      <td>16</td>\n",
              "      <td>2021-02-08</td>\n",
              "      <td>1.16</td>\n",
              "      <td>8</td>\n",
              "      <td>107</td>\n",
              "      <td>148.128</td>\n",
              "    </tr>\n",
              "  </tbody>\n",
              "</table>\n",
              "</div>"
            ],
            "text/plain": [
              "            id  ...     preço\n",
              "1544  22947785  ...  1349.760\n",
              "1562  22987845  ...  1371.408\n",
              "1565  22988271  ...  1371.408\n",
              "5326  37401769  ...   148.128\n",
              "\n",
              "[4 rows x 16 columns]"
            ]
          },
          "metadata": {},
          "execution_count": 95
        }
      ]
    },
    {
      "cell_type": "code",
      "metadata": {
        "id": "UxVJqJ_3W59I",
        "colab": {
          "base_uri": "https://localhost:8080/",
          "height": 469
        },
        "outputId": "1ef5d7a9-a9cf-4b73-f32c-9933bd539cfb"
      },
      "source": [
        "# plotar os imóveis pela latitude-longitude\n",
        "df_clean.plot(kind='scatter', x='longitude', y='latitude', alpha=0.4,c=df_clean['preço'],s=8,cmap=plt.get_cmap('jet'),figsize=(12,8));\n"
      ],
      "execution_count": 96,
      "outputs": [
        {
          "output_type": "display_data",
          "data": {
            "image/png": "[encoded data removed]",
            "text/plain": [
              "<Figure size 864x576 with 2 Axes>"
            ]
          },
          "metadata": {
            "needs_background": "light"
          }
        }
      ]
    },
    {
      "cell_type": "markdown",
      "metadata": {
        "id": "vTneAMRUYvr1"
      },
      "source": [
        "### **Q7. Qual é a média do mínimo de noites para aluguel (minimum_nights)?**"
      ]
    },
    {
      "cell_type": "code",
      "metadata": {
        "id": "_VzNhrEgY82N",
        "colab": {
          "base_uri": "https://localhost:8080/"
        },
        "outputId": "9729bc7f-dfcb-4050-caa4-066d2579f053"
      },
      "source": [
        "# ver a média da coluna `minimum_nights``\n",
        "df_clean['minimum_nights'].mean()\n",
        "df_clean.groupby('neighbourhood').minimum_nights.mean().sort_values(ascending=False)\n"
      ],
      "execution_count": 100,
      "outputs": [
        {
          "output_type": "execute_result",
          "data": {
            "text/plain": [
              "neighbourhood\n",
              "Toshima Ku             15.922977\n",
              "Tama Shi               11.875000\n",
              "Hino Shi                4.238095\n",
              "Suginami Ku             4.120000\n",
              "Kokubunji Shi           4.090909\n",
              "Koto Ku                 3.849057\n",
              "Koganei Shi             3.500000\n",
              "Akishima Shi            3.500000\n",
              "Hamura Shi              3.500000\n",
              "Minato Ku               3.300283\n",
              "Shinjuku Ku             3.154243\n",
              "Meguro Ku               3.078947\n",
              "Sumida Ku               2.983888\n",
              "Itabashi Ku             2.750000\n",
              "Musashino Shi           2.714286\n",
              "Shibuya Ku              2.568670\n",
              "Nakano Ku               2.517391\n",
              "Mitaka Shi              2.454545\n",
              "Komae Shi               2.333333\n",
              "Kita Ku                 2.273585\n",
              "Katsushika Ku           2.269912\n",
              "Shinagawa Ku            2.180791\n",
              "Edogawa Ku              2.171642\n",
              "Higashimurayama Shi     2.153846\n",
              "Setagaya Ku             2.145038\n",
              "Adachi Ku               2.082353\n",
              "Higashikurume Shi       2.000000\n",
              "Kodaira Shi             2.000000\n",
              "Fussa Shi               2.000000\n",
              "Nerima Ku               1.958333\n",
              "Nishitokyo Shi          1.933333\n",
              "Taito Ku                1.918367\n",
              "Ota Ku                  1.878788\n",
              "Arakawa Ku              1.845745\n",
              "Chofu Shi               1.818182\n",
              "Fuchu Shi               1.777778\n",
              "Tachikawa Shi           1.750000\n",
              "Machida Shi             1.687500\n",
              "Bunkyo Ku               1.664062\n",
              "Kunitachi Shi           1.500000\n",
              "Chiyoda Ku              1.336134\n",
              "Chuo Ku                 1.255952\n",
              "Hachioji Shi            1.133333\n",
              "Hinohara Mura           1.000000\n",
              "Okutama Machi           1.000000\n",
              "Ome Shi                 1.000000\n",
              "Kiyose Shi              1.000000\n",
              "Akiruno Shi             1.000000\n",
              "Musashimurayama Shi     1.000000\n",
              "Name: minimum_nights, dtype: float64"
            ]
          },
          "metadata": {},
          "execution_count": 100
        }
      ]
    },
    {
      "cell_type": "markdown",
      "metadata": {
        "id": "RVa78oy2IjZ3"
      },
      "source": [
        "### Q8. Média de preços dos melhores locais para se hospedar\n",
        "\n"
      ]
    },
    {
      "cell_type": "code",
      "metadata": {
        "id": "UAG-6WzII0hj",
        "colab": {
          "base_uri": "https://localhost:8080/"
        },
        "outputId": "f0d240f0-af6e-4249-ccb5-56ef95b5f74b"
      },
      "source": [
        "#ver a média de preço dos locais centrais (Shinjuku Ku, Shibuya Ku,Minato Ku,Chuo Ku,Chiyoda Ku)\n",
        "df_centro = df_clean.copy()\n",
        "df_centro.drop(df_centro[(df_centro['neighbourhood'] != 'Shinjuku Ku') &  (df_centro['neighbourhood'] != 'Shibuya Ku') & (df_centro['neighbourhood'] != 'Minato Ku') & (df_centro['neighbourhood'] != 'Chuo Ku') & (df_centro['neighbourhood'] != 'Chiyoda Ku')].index,axis=0,inplace=True)\n",
        "df_centro.groupby('neighbourhood').preço.mean().sort_values(ascending=False)"
      ],
      "execution_count": 101,
      "outputs": [
        {
          "output_type": "execute_result",
          "data": {
            "text/plain": [
              "neighbourhood\n",
              "Minato Ku      650.357303\n",
              "Shibuya Ku     598.174455\n",
              "Chiyoda Ku     594.332773\n",
              "Shinjuku Ku    500.425541\n",
              "Chuo Ku        493.811286\n",
              "Name: preço, dtype: float64"
            ]
          },
          "metadata": {},
          "execution_count": 101
        }
      ]
    },
    {
      "cell_type": "code",
      "metadata": {
        "id": "DQUsHsaAu_z-",
        "colab": {
          "base_uri": "https://localhost:8080/"
        },
        "outputId": "5ebfdad7-830e-4347-af4d-2aee779c668f"
      },
      "source": [
        "##ver a média dias dos locais centrais (Shinjuku Ku, Shibuya Ku,Minato Ku,Chuo Ku,Chiyoda Ku)\n",
        "df_centro.groupby('neighbourhood').minimum_nights.mean().sort_values(ascending=False)\n",
        "\n"
      ],
      "execution_count": 102,
      "outputs": [
        {
          "output_type": "execute_result",
          "data": {
            "text/plain": [
              "neighbourhood\n",
              "Minato Ku      3.300283\n",
              "Shinjuku Ku    3.154243\n",
              "Shibuya Ku     2.568670\n",
              "Chiyoda Ku     1.336134\n",
              "Chuo Ku        1.255952\n",
              "Name: minimum_nights, dtype: float64"
            ]
          },
          "metadata": {},
          "execution_count": 102
        }
      ]
    },
    {
      "cell_type": "code",
      "metadata": {
        "id": "FYx6fkopzvHW",
        "colab": {
          "base_uri": "https://localhost:8080/"
        },
        "outputId": "c35c0eff-d3f4-48b1-f2eb-3c36fb63f848"
      },
      "source": [
        "#quantidade de imóveis de cada bairro\n",
        "df_centro['neighbourhood'].value_counts()"
      ],
      "execution_count": 103,
      "outputs": [
        {
          "output_type": "execute_result",
          "data": {
            "text/plain": [
              "Shinjuku Ku    1744\n",
              "Shibuya Ku      466\n",
              "Minato Ku       353\n",
              "Chuo Ku         336\n",
              "Chiyoda Ku      119\n",
              "Name: neighbourhood, dtype: int64"
            ]
          },
          "metadata": {},
          "execution_count": 103
        }
      ]
    },
    {
      "cell_type": "markdown",
      "metadata": {
        "id": "GkvAg623RjoR"
      },
      "source": [
        "## Conclusões\n"
      ]
    },
    {
      "cell_type": "markdown",
      "metadata": {
        "id": "rbZ3Hsy9Ypw8"
      },
      "source": [
        "Apesar de ser uma análise geral do panorama dos dados importados, esse levantamento gera alguns insights interessantes como:\n",
        " * É interessante empenhar uma verba diária perto dos R\\$500,00 para hospedagem caso Tóquio seja um destino desejado para suas férias, uma vez que 50% dos imóveis se localizam abaixo dessa faixa. Isso é ainda mais expressivo para os casos dos bairros centrais, onde a média dos preços gira entre R\\$500,00 e R\\$650,00.\n",
        "\n",
        " *Tóquio não é uma boa cidade para pernoites, visto que o número mínimo de noites exigidas para locação, em média, é superior à 1 em vários bairros. Caso esse seja seu caso, a opção do AirBnB talvez não seja a mais interessante.\n",
        "\n",
        " *Por ter a maior parte de seus imóveis disponíveis sendo do tipo Entire home/apt (Imóvel inteiro) ou do tipo Private room (Quarto privado), a cidade se torna atraente tanto para famílias que necessitam de mais privacidade em sua locação quanto para viajantes sozinhos."
      ]
    }
  ]
}